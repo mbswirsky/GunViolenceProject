{
 "cells": [
  {
   "cell_type": "code",
   "execution_count": null,
   "metadata": {
    "collapsed": true
   },
   "outputs": [],
   "source": [
    "# t0 = time()\n",
    "\n",
    "# bag_train = vectorizer.fit_transform(X_train)\n",
    "# bag_test = vectorizer.transform(X_test)\n",
    "# X_train = pd.DataFrame(bag_train.toarray(), columns=vectorizer.get_feature_names())\n",
    "# X_test = pd.DataFrame(bag_test.toarray(), columns=vectorizer.get_feature_names())\n",
    "\n",
    "# print('{} sentences and {} features vectorized in {:.2f} seconds'.format(X_train.shape[0], X_train.shape[1], time() - t0))"
   ]
  },
  {
   "cell_type": "code",
   "execution_count": null,
   "metadata": {
    "collapsed": true
   },
   "outputs": [],
   "source": [
    "# t0 = time()\n",
    "\n",
    "\n",
    "# model.fit(X_train, y_train)\n",
    "\n",
    "# print('Fit model in {:.2f} seconds'.format(time() - t0))\n",
    "\n",
    "# feature_names = X_train.columns\n",
    "\n",
    "# if isinstance(model, LogisticRegression):\n",
    "#     feature_coefficients = pd.DataFrame(model.coef_.T, X_train.columns, model.classes_)\n",
    "#     display(feature_coefficients.sort_values('Machado', ascending=False).head(10))\n",
    "#     display(feature_coefficients.sort_values('Swirsky', ascending=False).head(10))\n",
    "#     display(feature_coefficients.sort_values('Valente', ascending=False).head(10))"
   ]
  },
  {
   "cell_type": "code",
   "execution_count": null,
   "metadata": {
    "collapsed": true
   },
   "outputs": [],
   "source": [
    "# t0 = time()\n",
    "\n",
    "# from sklearn.model_selection import cross_val_score, cross_val_predict\n",
    "# from sklearn.metrics import confusion_matrix\n",
    "\n",
    "# train_score = model.score(X_train, y_train)\n",
    "\n",
    "# y_train_pred = model.predict(X_train)\n",
    "\n",
    "# cv_score = cross_val_score(model, X_train, y_train, cv=5)\n",
    "\n",
    "# y_train_cv_pred = cross_val_predict(model, X_train, y_train, cv=5)\n",
    "\n",
    "# cm = confusion_matrix(y_train, y_train_pred)\n",
    "# cv_cm = confusion_matrix(y_train, y_train_cv_pred)\n",
    "\n",
    "# print('Validated in {:.2f} seconds'.format(time() - t0))"
   ]
  },
  {
   "cell_type": "code",
   "execution_count": null,
   "metadata": {
    "collapsed": true
   },
   "outputs": [],
   "source": [
    "# plusminus = u\"\\u00B1\"\n",
    "\n",
    "# print('Training set score: {:.1%}'.format(train_score))\n",
    "# print('\\nCross validation scores: {:.1%} {} {:.1%}'.format(cv_score.mean(), plusminus, cv_score.std()*2))\n",
    "\n",
    "# df_cm = pd.DataFrame(cm, index=model.classes_, columns=model.classes_)\n",
    "# df_cm.index.name = 'Actual Author'\n",
    "# df_cm.columns.name = 'Predicted Author'\n",
    "\n",
    "# df_cv_cm = pd.DataFrame(cv_cm, index=model.classes_, columns=model.classes_)\n",
    "# df_cv_cm.index.name = 'Actual Author'\n",
    "# df_cv_cm.columns.name = 'Predicted Author'\n",
    "\n",
    "# print('\\nTraining Confusion Matrix')\n",
    "# display(df_cm)\n",
    "\n",
    "# print('Cross Validation Confusion Matrix')\n",
    "# display(df_cv_cm)"
   ]
  },
  {
   "cell_type": "code",
   "execution_count": null,
   "metadata": {
    "collapsed": true
   },
   "outputs": [],
   "source": [
    "# from sklearn.ensemble import RandomForestClassifier\n",
    "\n",
    "# model = RandomForestClassifier(\n",
    "#     max_depth=10,\n",
    "#     min_samples_split=50,\n",
    "#     n_estimators=1000,\n",
    "#     verbose=1, \n",
    "#     n_jobs=-1)\n",
    "\n",
    "# model.fit(X_train, y_train)\n",
    "\n",
    "# feature_names = X_train.columns\n",
    "\n",
    "# forest_importances = pd.DataFrame(model.feature_importances_, feature_names, columns=[\"Importances\"])\n",
    "\n",
    "# display(forest_importances.sort_values('Importances', ascending=False).head(20))\n",
    "\n",
    "# print('{:.2f} seconds'.format(time() - start_time))"
   ]
  }
 ],
 "metadata": {
  "kernelspec": {
   "display_name": "Python 3",
   "language": "python",
   "name": "python3"
  },
  "language_info": {
   "codemirror_mode": {
    "name": "ipython",
    "version": 3
   },
   "file_extension": ".py",
   "mimetype": "text/x-python",
   "name": "python",
   "nbconvert_exporter": "python",
   "pygments_lexer": "ipython3",
   "version": "3.6.3"
  },
  "toc": {
   "base_numbering": 1,
   "nav_menu": {},
   "number_sections": true,
   "sideBar": true,
   "skip_h1_title": true,
   "title_cell": "Table of Contents",
   "title_sidebar": "Contents",
   "toc_cell": false,
   "toc_position": {},
   "toc_section_display": true,
   "toc_window_display": true
  },
  "varInspector": {
   "cols": {
    "lenName": 16,
    "lenType": 16,
    "lenVar": 40
   },
   "kernels_config": {
    "python": {
     "delete_cmd_postfix": "",
     "delete_cmd_prefix": "del ",
     "library": "var_list.py",
     "varRefreshCmd": "print(var_dic_list())"
    },
    "r": {
     "delete_cmd_postfix": ") ",
     "delete_cmd_prefix": "rm(",
     "library": "var_list.r",
     "varRefreshCmd": "cat(var_dic_list()) "
    }
   },
   "types_to_exclude": [
    "module",
    "function",
    "builtin_function_or_method",
    "instance",
    "_Feature"
   ],
   "window_display": false
  }
 },
 "nbformat": 4,
 "nbformat_minor": 2
}
