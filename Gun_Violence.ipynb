{
 "cells": [
  {
   "cell_type": "markdown",
   "metadata": {},
   "source": [
    "# Examining Gun Violence"
   ]
  },
  {
   "cell_type": "code",
   "execution_count": 1,
   "metadata": {
    "collapsed": true
   },
   "outputs": [],
   "source": [
    "from IPython.display import display\n",
    "from time import time\n",
    "import numpy as np\n",
    "import pandas as pd\n",
    "pd.set_option('display.max_columns', 100)\n",
    "import matplotlib.pyplot as plt\n",
    "%matplotlib inline\n",
    "import seaborn as sns"
   ]
  },
  {
   "cell_type": "markdown",
   "metadata": {},
   "source": [
    "## Import file"
   ]
  },
  {
   "cell_type": "code",
   "execution_count": 2,
   "metadata": {},
   "outputs": [
    {
     "name": "stdout",
     "output_type": "stream",
     "text": [
      "(239677, 29)\n"
     ]
    }
   ],
   "source": [
    "filename = 'gun-violence-data_01-2013_03-2018.csv'\n",
    "df_raw = pd.read_csv(filename)\n",
    "print(df_raw.shape)"
   ]
  },
  {
   "cell_type": "markdown",
   "metadata": {},
   "source": [
    "## Cleaning and formatting"
   ]
  },
  {
   "cell_type": "code",
   "execution_count": 3,
   "metadata": {},
   "outputs": [
    {
     "name": "stdout",
     "output_type": "stream",
     "text": [
      "Time: 7.22 seconds\n"
     ]
    }
   ],
   "source": [
    "t0 = time()\n",
    "\n",
    "df = df_raw.copy()\n",
    "\n",
    "df['date'] = pd.to_datetime(df['date'], format='%Y-%m-%d')\n",
    "\n",
    "df['year'] = df['date'].dt.year\n",
    "\n",
    "df['month'] = df['date'].dt.month\n",
    "\n",
    "df_desc = df.loc[:, ['incident_characteristics', 'notes', 'participant_age_group', 'participant_gender', 'participant_status', 'participant_type']].copy()\n",
    "\n",
    "df_desc = df_desc.apply(lambda x: x.str.lower().str.replace(r':', ' ').str.replace(r'[^a-zA-Z ]+', ' ').fillna(''))\n",
    "\n",
    "df_char = df_desc.loc[:, ['incident_characteristics', 'notes']].copy()\n",
    "\n",
    "df_part = df_desc.loc[:, ['participant_age_group', 'participant_gender', 'participant_status', 'participant_type']]\n",
    "\n",
    "df = df.loc[:, ['date', 'year', 'month', 'state', 'city_or_county', 'n_killed', 'n_injured']]\n",
    "\n",
    "print(\"Time: {:.2f} seconds\".format(time() - t0))"
   ]
  },
  {
   "cell_type": "code",
   "execution_count": 4,
   "metadata": {},
   "outputs": [
    {
     "data": {
      "text/plain": [
       "participant_age_group    0::Adult 18+||1::Adult 18+||2::Adult 18+||3::A...\n",
       "participant_gender                    0::Male||1::Male||3::Male||4::Female\n",
       "participant_status       0::Arrested||1::Injured||2::Injured||3::Injure...\n",
       "participant_type         0::Victim||1::Victim||2::Victim||3::Victim||4:...\n",
       "Name: 0, dtype: object"
      ]
     },
     "execution_count": 4,
     "metadata": {},
     "output_type": "execute_result"
    }
   ],
   "source": [
    "df_raw.loc[0, ['participant_age_group', 'participant_gender', 'participant_status', 'participant_type']]"
   ]
  },
  {
   "cell_type": "code",
   "execution_count": 5,
   "metadata": {},
   "outputs": [
    {
     "data": {
      "text/plain": [
       "(array([   7.,   11.,    9.,   14.,    6.,   12.,   18.,   18.,   14.,\n",
       "          26.,   20.,   21.,    8.,   25.,   13.,   14.,   12.,   13.,\n",
       "          14., 2607., 2677., 1981., 2077., 2408., 2456., 2455., 2954.,\n",
       "        2751., 3019., 3235., 3277., 3186., 3196., 3232., 2960., 2493.,\n",
       "        2189., 2467., 2363., 2312., 2224., 2471., 2825., 2778., 2941.,\n",
       "        3138., 3076., 2980., 3116., 3171., 2993., 3107., 2774., 3018.,\n",
       "        2730., 2636., 2752., 2845., 2706., 2622., 2984., 3003., 2941.,\n",
       "        3016., 2998., 2758., 3305., 3159., 3393., 3340., 3217., 2969.,\n",
       "        3287., 3406., 3231., 3058., 3398., 3107., 3179., 2858., 3401.,\n",
       "        3578., 3405., 3500., 3291., 3459., 3519., 3284., 3106., 2949.,\n",
       "        3197., 3161., 3073., 3168., 2883., 2835., 3070., 2730., 2879.,\n",
       "        3109.]),\n",
       " array([734869.  , 734888.15, 734907.3 , 734926.45, 734945.6 , 734964.75,\n",
       "        734983.9 , 735003.05, 735022.2 , 735041.35, 735060.5 , 735079.65,\n",
       "        735098.8 , 735117.95, 735137.1 , 735156.25, 735175.4 , 735194.55,\n",
       "        735213.7 , 735232.85, 735252.  , 735271.15, 735290.3 , 735309.45,\n",
       "        735328.6 , 735347.75, 735366.9 , 735386.05, 735405.2 , 735424.35,\n",
       "        735443.5 , 735462.65, 735481.8 , 735500.95, 735520.1 , 735539.25,\n",
       "        735558.4 , 735577.55, 735596.7 , 735615.85, 735635.  , 735654.15,\n",
       "        735673.3 , 735692.45, 735711.6 , 735730.75, 735749.9 , 735769.05,\n",
       "        735788.2 , 735807.35, 735826.5 , 735845.65, 735864.8 , 735883.95,\n",
       "        735903.1 , 735922.25, 735941.4 , 735960.55, 735979.7 , 735998.85,\n",
       "        736018.  , 736037.15, 736056.3 , 736075.45, 736094.6 , 736113.75,\n",
       "        736132.9 , 736152.05, 736171.2 , 736190.35, 736209.5 , 736228.65,\n",
       "        736247.8 , 736266.95, 736286.1 , 736305.25, 736324.4 , 736343.55,\n",
       "        736362.7 , 736381.85, 736401.  , 736420.15, 736439.3 , 736458.45,\n",
       "        736477.6 , 736496.75, 736515.9 , 736535.05, 736554.2 , 736573.35,\n",
       "        736592.5 , 736611.65, 736630.8 , 736649.95, 736669.1 , 736688.25,\n",
       "        736707.4 , 736726.55, 736745.7 , 736764.85, 736784.  ]),\n",
       " <a list of 100 Patch objects>)"
      ]
     },
     "execution_count": 5,
     "metadata": {},
     "output_type": "execute_result"
    },
    {
     "data": {
      "image/png": "[encoded data removed]",
      "text/plain": [
       "<Figure size 432x288 with 1 Axes>"
      ]
     },
     "metadata": {},
     "output_type": "display_data"
    }
   ],
   "source": [
    "plt.hist(df['date'], bins=100)"
   ]
  },
  {
   "cell_type": "markdown",
   "metadata": {},
   "source": [
    "## Bags of Words"
   ]
  },
  {
   "cell_type": "code",
   "execution_count": 6,
   "metadata": {},
   "outputs": [
    {
     "name": "stdout",
     "output_type": "stream",
     "text": [
      "Time: 7.28 seconds\n"
     ]
    }
   ],
   "source": [
    "t0 = time()\n",
    "\n",
    "from sklearn.feature_extraction.text import CountVectorizer\n",
    "\n",
    "for col in list(df_char.columns):\n",
    "    vectorizer = CountVectorizer(max_features=100, stop_words='english')\n",
    "    x = vectorizer.fit_transform(df_char[col])\n",
    "    bag_of_words = pd.DataFrame(x.toarray(), columns=(col + '.' + s for s in vectorizer.get_feature_names()))\n",
    "    df = df.join(bag_of_words)\n",
    "\n",
    "print(\"Time: {:.2f} seconds\".format(time() - t0))"
   ]
  },
  {
   "cell_type": "code",
   "execution_count": 7,
   "metadata": {},
   "outputs": [
    {
     "data": {
      "text/plain": [
       "['date',\n",
       " 'year',\n",
       " 'month',\n",
       " 'state',\n",
       " 'city_or_county',\n",
       " 'n_killed',\n",
       " 'n_injured',\n",
       " 'incident_characteristics.abductions',\n",
       " 'incident_characteristics.accidental',\n",
       " 'incident_characteristics.action',\n",
       " 'incident_characteristics.aggression',\n",
       " 'incident_characteristics.alcohol',\n",
       " 'incident_characteristics.applies',\n",
       " 'incident_characteristics.armed',\n",
       " 'incident_characteristics.arrest',\n",
       " 'incident_characteristics.atf',\n",
       " 'incident_characteristics.attempt',\n",
       " 'incident_characteristics.bar',\n",
       " 'incident_characteristics.brandishing',\n",
       " 'incident_characteristics.business',\n",
       " 'incident_characteristics.car',\n",
       " 'incident_characteristics.carry',\n",
       " 'incident_characteristics.child',\n",
       " 'incident_characteristics.club',\n",
       " 'incident_characteristics.commission',\n",
       " 'incident_characteristics.confiscation',\n",
       " 'incident_characteristics.crime',\n",
       " 'incident_characteristics.crimes',\n",
       " 'incident_characteristics.dead',\n",
       " 'incident_characteristics.death',\n",
       " 'incident_characteristics.defensive',\n",
       " 'incident_characteristics.dgu',\n",
       " 'incident_characteristics.diagram',\n",
       " 'incident_characteristics.discharge',\n",
       " 'incident_characteristics.domestic',\n",
       " 'incident_characteristics.drive',\n",
       " 'incident_characteristics.drug',\n",
       " 'incident_characteristics.drugs',\n",
       " 'incident_characteristics.establishment',\n",
       " 'incident_characteristics.evidence',\n",
       " 'incident_characteristics.felon',\n",
       " 'incident_characteristics.fired',\n",
       " 'incident_characteristics.flourishing',\n",
       " 'incident_characteristics.gang',\n",
       " 'incident_characteristics.group',\n",
       " 'incident_characteristics.gun',\n",
       " 'incident_characteristics.home',\n",
       " 'incident_characteristics.hostage',\n",
       " 'incident_characteristics.illegally',\n",
       " 'incident_characteristics.incident',\n",
       " 'incident_characteristics.influence',\n",
       " 'incident_characteristics.injured',\n",
       " 'incident_characteristics.injuries',\n",
       " 'incident_characteristics.injury',\n",
       " 'incident_characteristics.institution',\n",
       " 'incident_characteristics.invasion',\n",
       " 'incident_characteristics.involved',\n",
       " 'incident_characteristics.involvement',\n",
       " 'incident_characteristics.jacking',\n",
       " 'incident_characteristics.kidnapping',\n",
       " 'incident_characteristics.killed',\n",
       " 'incident_characteristics.law',\n",
       " 'incident_characteristics.le',\n",
       " 'incident_characteristics.lost',\n",
       " 'incident_characteristics.murder',\n",
       " 'incident_characteristics.negligent',\n",
       " 'incident_characteristics.non',\n",
       " 'incident_characteristics.occurs',\n",
       " 'incident_characteristics.officer',\n",
       " 'incident_characteristics.open',\n",
       " 'incident_characteristics.overlap',\n",
       " 'incident_characteristics.owned',\n",
       " 'incident_characteristics.owner',\n",
       " 'incident_characteristics.perpetrator',\n",
       " 'incident_characteristics.person',\n",
       " 'incident_characteristics.pistol',\n",
       " 'incident_characteristics.possession',\n",
       " 'incident_characteristics.prohibited',\n",
       " 'incident_characteristics.raid',\n",
       " 'incident_characteristics.recovered',\n",
       " 'incident_characteristics.resident',\n",
       " 'incident_characteristics.robbery',\n",
       " 'incident_characteristics.school',\n",
       " 'incident_characteristics.shooters',\n",
       " 'incident_characteristics.shooting',\n",
       " 'incident_characteristics.shootout',\n",
       " 'incident_characteristics.shoots',\n",
       " 'incident_characteristics.shot',\n",
       " 'incident_characteristics.shots',\n",
       " 'incident_characteristics.standoff',\n",
       " 'incident_characteristics.stolen',\n",
       " 'incident_characteristics.stops',\n",
       " 'incident_characteristics.street',\n",
       " 'incident_characteristics.subject',\n",
       " 'incident_characteristics.suicide',\n",
       " 'incident_characteristics.surrender',\n",
       " 'incident_characteristics.suspect',\n",
       " 'incident_characteristics.tsa',\n",
       " 'incident_characteristics.use',\n",
       " 'incident_characteristics.venn',\n",
       " 'incident_characteristics.victim',\n",
       " 'incident_characteristics.victims',\n",
       " 'incident_characteristics.violence',\n",
       " 'incident_characteristics.warrant',\n",
       " 'incident_characteristics.weapon',\n",
       " 'incident_characteristics.whipping',\n",
       " 'incident_characteristics.wounded',\n",
       " 'notes.airport',\n",
       " 'notes.apartment',\n",
       " 'notes.approx',\n",
       " 'notes.ar',\n",
       " 'notes.argument',\n",
       " 'notes.arm',\n",
       " 'notes.armed',\n",
       " 'notes.arrest',\n",
       " 'notes.arrested',\n",
       " 'notes.bullet',\n",
       " 'notes.cal',\n",
       " 'notes.car',\n",
       " 'notes.charged',\n",
       " 'notes.chase',\n",
       " 'notes.chest',\n",
       " 'notes.critical',\n",
       " 'notes.custody',\n",
       " 'notes.date',\n",
       " 'notes.dead',\n",
       " 'notes.died',\n",
       " 'notes.drive',\n",
       " 'notes.driver',\n",
       " 'notes.drug',\n",
       " 'notes.drugs',\n",
       " 'notes.fight',\n",
       " 'notes.firearm',\n",
       " 'notes.fired',\n",
       " 'notes.gang',\n",
       " 'notes.gun',\n",
       " 'notes.gunpoint',\n",
       " 'notes.guns',\n",
       " 'notes.handgun',\n",
       " 'notes.head',\n",
       " 'notes.hi',\n",
       " 'notes.hit',\n",
       " 'notes.home',\n",
       " 'notes.house',\n",
       " 'notes.incident',\n",
       " 'notes.inj',\n",
       " 'notes.injured',\n",
       " 'notes.inside',\n",
       " 'notes.international',\n",
       " 'notes.killed',\n",
       " 'notes.leg',\n",
       " 'notes.loaded',\n",
       " 'notes.lot',\n",
       " 'notes.male',\n",
       " 'notes.man',\n",
       " 'notes.men',\n",
       " 'notes.mm',\n",
       " 'notes.multiple',\n",
       " 'notes.near',\n",
       " 'notes.officer',\n",
       " 'notes.officers',\n",
       " 'notes.outside',\n",
       " 'notes.park',\n",
       " 'notes.parking',\n",
       " 'notes.perp',\n",
       " 'notes.person',\n",
       " 'notes.pistol',\n",
       " 'notes.pm',\n",
       " 'notes.police',\n",
       " 'notes.poss',\n",
       " 'notes.recovered',\n",
       " 'notes.related',\n",
       " 'notes.report',\n",
       " 'notes.reported',\n",
       " 'notes.rifle',\n",
       " 'notes.road',\n",
       " 'notes.robbed',\n",
       " 'notes.robbery',\n",
       " 'notes.school',\n",
       " 'notes.self',\n",
       " 'notes.shooter',\n",
       " 'notes.shooting',\n",
       " 'notes.shoots',\n",
       " 'notes.shot',\n",
       " 'notes.shotgun',\n",
       " 'notes.shots',\n",
       " 'notes.st',\n",
       " 'notes.stable',\n",
       " 'notes.standoff',\n",
       " 'notes.stolen',\n",
       " 'notes.stop',\n",
       " 'notes.store',\n",
       " 'notes.street',\n",
       " 'notes.suicide',\n",
       " 'notes.suspect',\n",
       " 'notes.suspects',\n",
       " 'notes.teen',\n",
       " 'notes.threat',\n",
       " 'notes.times',\n",
       " 'notes.traffic',\n",
       " 'notes.unclear',\n",
       " 'notes.vehicle',\n",
       " 'notes.vic',\n",
       " 'notes.victim',\n",
       " 'notes.wife',\n",
       " 'notes.woman',\n",
       " 'notes.wounded']"
      ]
     },
     "execution_count": 7,
     "metadata": {},
     "output_type": "execute_result"
    }
   ],
   "source": [
    "list(df.columns)"
   ]
  },
  {
   "cell_type": "markdown",
   "metadata": {},
   "source": [
    "## Feature engineering"
   ]
  },
  {
   "cell_type": "code",
   "execution_count": 8,
   "metadata": {},
   "outputs": [
    {
     "ename": "KeyError",
     "evalue": "'participant_status.arrested'",
     "output_type": "error",
     "traceback": [
      "\u001b[1;31m---------------------------------------------------------------------------\u001b[0m",
      "\u001b[1;31mKeyError\u001b[0m                                  Traceback (most recent call last)",
      "\u001b[1;32m~\\Anaconda3\\lib\\site-packages\\pandas\\core\\indexes\\base.py\u001b[0m in \u001b[0;36mget_loc\u001b[1;34m(self, key, method, tolerance)\u001b[0m\n\u001b[0;32m   2524\u001b[0m             \u001b[1;32mtry\u001b[0m\u001b[1;33m:\u001b[0m\u001b[1;33m\u001b[0m\u001b[0m\n\u001b[1;32m-> 2525\u001b[1;33m                 \u001b[1;32mreturn\u001b[0m \u001b[0mself\u001b[0m\u001b[1;33m.\u001b[0m\u001b[0m_engine\u001b[0m\u001b[1;33m.\u001b[0m\u001b[0mget_loc\u001b[0m\u001b[1;33m(\u001b[0m\u001b[0mkey\u001b[0m\u001b[1;33m)\u001b[0m\u001b[1;33m\u001b[0m\u001b[0m\n\u001b[0m\u001b[0;32m   2526\u001b[0m             \u001b[1;32mexcept\u001b[0m \u001b[0mKeyError\u001b[0m\u001b[1;33m:\u001b[0m\u001b[1;33m\u001b[0m\u001b[0m\n",
      "\u001b[1;32mpandas/_libs/index.pyx\u001b[0m in \u001b[0;36mpandas._libs.index.IndexEngine.get_loc\u001b[1;34m()\u001b[0m\n",
      "\u001b[1;32mpandas/_libs/index.pyx\u001b[0m in \u001b[0;36mpandas._libs.index.IndexEngine.get_loc\u001b[1;34m()\u001b[0m\n",
      "\u001b[1;32mpandas/_libs/hashtable_class_helper.pxi\u001b[0m in \u001b[0;36mpandas._libs.hashtable.PyObjectHashTable.get_item\u001b[1;34m()\u001b[0m\n",
      "\u001b[1;32mpandas/_libs/hashtable_class_helper.pxi\u001b[0m in \u001b[0;36mpandas._libs.hashtable.PyObjectHashTable.get_item\u001b[1;34m()\u001b[0m\n",
      "\u001b[1;31mKeyError\u001b[0m: 'participant_status.arrested'",
      "\nDuring handling of the above exception, another exception occurred:\n",
      "\u001b[1;31mKeyError\u001b[0m                                  Traceback (most recent call last)",
      "\u001b[1;32m<ipython-input-8-f9b3ee6fca01>\u001b[0m in \u001b[0;36m<module>\u001b[1;34m()\u001b[0m\n\u001b[0;32m      1\u001b[0m \u001b[0mdf\u001b[0m\u001b[1;33m[\u001b[0m\u001b[1;34m'killed'\u001b[0m\u001b[1;33m]\u001b[0m \u001b[1;33m=\u001b[0m \u001b[0mnp\u001b[0m\u001b[1;33m.\u001b[0m\u001b[0mwhere\u001b[0m\u001b[1;33m(\u001b[0m\u001b[0mdf\u001b[0m\u001b[1;33m[\u001b[0m\u001b[1;34m'n_killed'\u001b[0m\u001b[1;33m]\u001b[0m \u001b[1;33m>\u001b[0m \u001b[1;36m0\u001b[0m\u001b[1;33m,\u001b[0m \u001b[1;36m1\u001b[0m\u001b[1;33m,\u001b[0m \u001b[1;36m0\u001b[0m\u001b[1;33m)\u001b[0m\u001b[1;33m\u001b[0m\u001b[0m\n\u001b[0;32m      2\u001b[0m \u001b[1;33m\u001b[0m\u001b[0m\n\u001b[1;32m----> 3\u001b[1;33m \u001b[0mdf\u001b[0m\u001b[1;33m[\u001b[0m\u001b[1;34m'arrest'\u001b[0m\u001b[1;33m]\u001b[0m \u001b[1;33m=\u001b[0m \u001b[0mnp\u001b[0m\u001b[1;33m.\u001b[0m\u001b[0mwhere\u001b[0m\u001b[1;33m(\u001b[0m\u001b[1;33m(\u001b[0m\u001b[0mdf\u001b[0m\u001b[1;33m[\u001b[0m\u001b[1;34m'incident_characteristics.arrest'\u001b[0m\u001b[1;33m]\u001b[0m \u001b[1;33m>\u001b[0m \u001b[1;36m0\u001b[0m\u001b[1;33m)\u001b[0m \u001b[1;33m|\u001b[0m \u001b[1;33m(\u001b[0m\u001b[0mdf\u001b[0m\u001b[1;33m[\u001b[0m\u001b[1;34m'notes.arrest'\u001b[0m\u001b[1;33m]\u001b[0m \u001b[1;33m>\u001b[0m \u001b[1;36m0\u001b[0m\u001b[1;33m)\u001b[0m \u001b[1;33m|\u001b[0m \u001b[1;33m(\u001b[0m\u001b[0mdf\u001b[0m\u001b[1;33m[\u001b[0m\u001b[1;34m'notes.arrested'\u001b[0m\u001b[1;33m]\u001b[0m \u001b[1;33m>\u001b[0m \u001b[1;36m0\u001b[0m\u001b[1;33m)\u001b[0m \u001b[1;33m|\u001b[0m \u001b[1;33m(\u001b[0m\u001b[0mdf\u001b[0m\u001b[1;33m[\u001b[0m\u001b[1;34m'participant_status.arrested'\u001b[0m\u001b[1;33m]\u001b[0m \u001b[1;33m>\u001b[0m \u001b[1;36m0\u001b[0m\u001b[1;33m)\u001b[0m\u001b[1;33m,\u001b[0m \u001b[1;36m1\u001b[0m\u001b[1;33m,\u001b[0m \u001b[1;36m0\u001b[0m\u001b[1;33m)\u001b[0m\u001b[1;33m\u001b[0m\u001b[0m\n\u001b[0m\u001b[0;32m      4\u001b[0m \u001b[1;33m\u001b[0m\u001b[0m\n\u001b[0;32m      5\u001b[0m \u001b[0mdf\u001b[0m\u001b[1;33m[\u001b[0m\u001b[1;34m'child'\u001b[0m\u001b[1;33m]\u001b[0m \u001b[1;33m=\u001b[0m \u001b[0mnp\u001b[0m\u001b[1;33m.\u001b[0m\u001b[0mwhere\u001b[0m\u001b[1;33m(\u001b[0m\u001b[0mdf\u001b[0m\u001b[1;33m[\u001b[0m\u001b[1;34m'participant_age_group.child'\u001b[0m\u001b[1;33m]\u001b[0m \u001b[1;33m>\u001b[0m \u001b[1;36m0\u001b[0m\u001b[1;33m,\u001b[0m \u001b[1;36m1\u001b[0m\u001b[1;33m,\u001b[0m \u001b[1;36m0\u001b[0m\u001b[1;33m)\u001b[0m\u001b[1;33m\u001b[0m\u001b[0m\n",
      "\u001b[1;32m~\\Anaconda3\\lib\\site-packages\\pandas\\core\\frame.py\u001b[0m in \u001b[0;36m__getitem__\u001b[1;34m(self, key)\u001b[0m\n\u001b[0;32m   2137\u001b[0m             \u001b[1;32mreturn\u001b[0m \u001b[0mself\u001b[0m\u001b[1;33m.\u001b[0m\u001b[0m_getitem_multilevel\u001b[0m\u001b[1;33m(\u001b[0m\u001b[0mkey\u001b[0m\u001b[1;33m)\u001b[0m\u001b[1;33m\u001b[0m\u001b[0m\n\u001b[0;32m   2138\u001b[0m         \u001b[1;32melse\u001b[0m\u001b[1;33m:\u001b[0m\u001b[1;33m\u001b[0m\u001b[0m\n\u001b[1;32m-> 2139\u001b[1;33m             \u001b[1;32mreturn\u001b[0m \u001b[0mself\u001b[0m\u001b[1;33m.\u001b[0m\u001b[0m_getitem_column\u001b[0m\u001b[1;33m(\u001b[0m\u001b[0mkey\u001b[0m\u001b[1;33m)\u001b[0m\u001b[1;33m\u001b[0m\u001b[0m\n\u001b[0m\u001b[0;32m   2140\u001b[0m \u001b[1;33m\u001b[0m\u001b[0m\n\u001b[0;32m   2141\u001b[0m     \u001b[1;32mdef\u001b[0m \u001b[0m_getitem_column\u001b[0m\u001b[1;33m(\u001b[0m\u001b[0mself\u001b[0m\u001b[1;33m,\u001b[0m \u001b[0mkey\u001b[0m\u001b[1;33m)\u001b[0m\u001b[1;33m:\u001b[0m\u001b[1;33m\u001b[0m\u001b[0m\n",
      "\u001b[1;32m~\\Anaconda3\\lib\\site-packages\\pandas\\core\\frame.py\u001b[0m in \u001b[0;36m_getitem_column\u001b[1;34m(self, key)\u001b[0m\n\u001b[0;32m   2144\u001b[0m         \u001b[1;31m# get column\u001b[0m\u001b[1;33m\u001b[0m\u001b[1;33m\u001b[0m\u001b[0m\n\u001b[0;32m   2145\u001b[0m         \u001b[1;32mif\u001b[0m \u001b[0mself\u001b[0m\u001b[1;33m.\u001b[0m\u001b[0mcolumns\u001b[0m\u001b[1;33m.\u001b[0m\u001b[0mis_unique\u001b[0m\u001b[1;33m:\u001b[0m\u001b[1;33m\u001b[0m\u001b[0m\n\u001b[1;32m-> 2146\u001b[1;33m             \u001b[1;32mreturn\u001b[0m \u001b[0mself\u001b[0m\u001b[1;33m.\u001b[0m\u001b[0m_get_item_cache\u001b[0m\u001b[1;33m(\u001b[0m\u001b[0mkey\u001b[0m\u001b[1;33m)\u001b[0m\u001b[1;33m\u001b[0m\u001b[0m\n\u001b[0m\u001b[0;32m   2147\u001b[0m \u001b[1;33m\u001b[0m\u001b[0m\n\u001b[0;32m   2148\u001b[0m         \u001b[1;31m# duplicate columns & possible reduce dimensionality\u001b[0m\u001b[1;33m\u001b[0m\u001b[1;33m\u001b[0m\u001b[0m\n",
      "\u001b[1;32m~\\Anaconda3\\lib\\site-packages\\pandas\\core\\generic.py\u001b[0m in \u001b[0;36m_get_item_cache\u001b[1;34m(self, item)\u001b[0m\n\u001b[0;32m   1840\u001b[0m         \u001b[0mres\u001b[0m \u001b[1;33m=\u001b[0m \u001b[0mcache\u001b[0m\u001b[1;33m.\u001b[0m\u001b[0mget\u001b[0m\u001b[1;33m(\u001b[0m\u001b[0mitem\u001b[0m\u001b[1;33m)\u001b[0m\u001b[1;33m\u001b[0m\u001b[0m\n\u001b[0;32m   1841\u001b[0m         \u001b[1;32mif\u001b[0m \u001b[0mres\u001b[0m \u001b[1;32mis\u001b[0m \u001b[1;32mNone\u001b[0m\u001b[1;33m:\u001b[0m\u001b[1;33m\u001b[0m\u001b[0m\n\u001b[1;32m-> 1842\u001b[1;33m             \u001b[0mvalues\u001b[0m \u001b[1;33m=\u001b[0m \u001b[0mself\u001b[0m\u001b[1;33m.\u001b[0m\u001b[0m_data\u001b[0m\u001b[1;33m.\u001b[0m\u001b[0mget\u001b[0m\u001b[1;33m(\u001b[0m\u001b[0mitem\u001b[0m\u001b[1;33m)\u001b[0m\u001b[1;33m\u001b[0m\u001b[0m\n\u001b[0m\u001b[0;32m   1843\u001b[0m             \u001b[0mres\u001b[0m \u001b[1;33m=\u001b[0m \u001b[0mself\u001b[0m\u001b[1;33m.\u001b[0m\u001b[0m_box_item_values\u001b[0m\u001b[1;33m(\u001b[0m\u001b[0mitem\u001b[0m\u001b[1;33m,\u001b[0m \u001b[0mvalues\u001b[0m\u001b[1;33m)\u001b[0m\u001b[1;33m\u001b[0m\u001b[0m\n\u001b[0;32m   1844\u001b[0m             \u001b[0mcache\u001b[0m\u001b[1;33m[\u001b[0m\u001b[0mitem\u001b[0m\u001b[1;33m]\u001b[0m \u001b[1;33m=\u001b[0m \u001b[0mres\u001b[0m\u001b[1;33m\u001b[0m\u001b[0m\n",
      "\u001b[1;32m~\\Anaconda3\\lib\\site-packages\\pandas\\core\\internals.py\u001b[0m in \u001b[0;36mget\u001b[1;34m(self, item, fastpath)\u001b[0m\n\u001b[0;32m   3841\u001b[0m \u001b[1;33m\u001b[0m\u001b[0m\n\u001b[0;32m   3842\u001b[0m             \u001b[1;32mif\u001b[0m \u001b[1;32mnot\u001b[0m \u001b[0misna\u001b[0m\u001b[1;33m(\u001b[0m\u001b[0mitem\u001b[0m\u001b[1;33m)\u001b[0m\u001b[1;33m:\u001b[0m\u001b[1;33m\u001b[0m\u001b[0m\n\u001b[1;32m-> 3843\u001b[1;33m                 \u001b[0mloc\u001b[0m \u001b[1;33m=\u001b[0m \u001b[0mself\u001b[0m\u001b[1;33m.\u001b[0m\u001b[0mitems\u001b[0m\u001b[1;33m.\u001b[0m\u001b[0mget_loc\u001b[0m\u001b[1;33m(\u001b[0m\u001b[0mitem\u001b[0m\u001b[1;33m)\u001b[0m\u001b[1;33m\u001b[0m\u001b[0m\n\u001b[0m\u001b[0;32m   3844\u001b[0m             \u001b[1;32melse\u001b[0m\u001b[1;33m:\u001b[0m\u001b[1;33m\u001b[0m\u001b[0m\n\u001b[0;32m   3845\u001b[0m                 \u001b[0mindexer\u001b[0m \u001b[1;33m=\u001b[0m \u001b[0mnp\u001b[0m\u001b[1;33m.\u001b[0m\u001b[0marange\u001b[0m\u001b[1;33m(\u001b[0m\u001b[0mlen\u001b[0m\u001b[1;33m(\u001b[0m\u001b[0mself\u001b[0m\u001b[1;33m.\u001b[0m\u001b[0mitems\u001b[0m\u001b[1;33m)\u001b[0m\u001b[1;33m)\u001b[0m\u001b[1;33m[\u001b[0m\u001b[0misna\u001b[0m\u001b[1;33m(\u001b[0m\u001b[0mself\u001b[0m\u001b[1;33m.\u001b[0m\u001b[0mitems\u001b[0m\u001b[1;33m)\u001b[0m\u001b[1;33m]\u001b[0m\u001b[1;33m\u001b[0m\u001b[0m\n",
      "\u001b[1;32m~\\Anaconda3\\lib\\site-packages\\pandas\\core\\indexes\\base.py\u001b[0m in \u001b[0;36mget_loc\u001b[1;34m(self, key, method, tolerance)\u001b[0m\n\u001b[0;32m   2525\u001b[0m                 \u001b[1;32mreturn\u001b[0m \u001b[0mself\u001b[0m\u001b[1;33m.\u001b[0m\u001b[0m_engine\u001b[0m\u001b[1;33m.\u001b[0m\u001b[0mget_loc\u001b[0m\u001b[1;33m(\u001b[0m\u001b[0mkey\u001b[0m\u001b[1;33m)\u001b[0m\u001b[1;33m\u001b[0m\u001b[0m\n\u001b[0;32m   2526\u001b[0m             \u001b[1;32mexcept\u001b[0m \u001b[0mKeyError\u001b[0m\u001b[1;33m:\u001b[0m\u001b[1;33m\u001b[0m\u001b[0m\n\u001b[1;32m-> 2527\u001b[1;33m                 \u001b[1;32mreturn\u001b[0m \u001b[0mself\u001b[0m\u001b[1;33m.\u001b[0m\u001b[0m_engine\u001b[0m\u001b[1;33m.\u001b[0m\u001b[0mget_loc\u001b[0m\u001b[1;33m(\u001b[0m\u001b[0mself\u001b[0m\u001b[1;33m.\u001b[0m\u001b[0m_maybe_cast_indexer\u001b[0m\u001b[1;33m(\u001b[0m\u001b[0mkey\u001b[0m\u001b[1;33m)\u001b[0m\u001b[1;33m)\u001b[0m\u001b[1;33m\u001b[0m\u001b[0m\n\u001b[0m\u001b[0;32m   2528\u001b[0m \u001b[1;33m\u001b[0m\u001b[0m\n\u001b[0;32m   2529\u001b[0m         \u001b[0mindexer\u001b[0m \u001b[1;33m=\u001b[0m \u001b[0mself\u001b[0m\u001b[1;33m.\u001b[0m\u001b[0mget_indexer\u001b[0m\u001b[1;33m(\u001b[0m\u001b[1;33m[\u001b[0m\u001b[0mkey\u001b[0m\u001b[1;33m]\u001b[0m\u001b[1;33m,\u001b[0m \u001b[0mmethod\u001b[0m\u001b[1;33m=\u001b[0m\u001b[0mmethod\u001b[0m\u001b[1;33m,\u001b[0m \u001b[0mtolerance\u001b[0m\u001b[1;33m=\u001b[0m\u001b[0mtolerance\u001b[0m\u001b[1;33m)\u001b[0m\u001b[1;33m\u001b[0m\u001b[0m\n",
      "\u001b[1;32mpandas/_libs/index.pyx\u001b[0m in \u001b[0;36mpandas._libs.index.IndexEngine.get_loc\u001b[1;34m()\u001b[0m\n",
      "\u001b[1;32mpandas/_libs/index.pyx\u001b[0m in \u001b[0;36mpandas._libs.index.IndexEngine.get_loc\u001b[1;34m()\u001b[0m\n",
      "\u001b[1;32mpandas/_libs/hashtable_class_helper.pxi\u001b[0m in \u001b[0;36mpandas._libs.hashtable.PyObjectHashTable.get_item\u001b[1;34m()\u001b[0m\n",
      "\u001b[1;32mpandas/_libs/hashtable_class_helper.pxi\u001b[0m in \u001b[0;36mpandas._libs.hashtable.PyObjectHashTable.get_item\u001b[1;34m()\u001b[0m\n",
      "\u001b[1;31mKeyError\u001b[0m: 'participant_status.arrested'"
     ]
    }
   ],
   "source": [
    "df['killed'] = np.where(df['n_killed'] > 0, 1, 0)\n",
    "\n",
    "df['arrest'] = np.where((df['incident_characteristics.arrest'] > 0) | (df['notes.arrest'] > 0) | (df['notes.arrested'] > 0) | (df['participant_status.arrested'] > 0), 1, 0)\n",
    "\n",
    "df['child'] = np.where(df['participant_age_group.child'] > 0, 1, 0)\n",
    "\n",
    "print(df['killed'].value_counts())\n",
    "print(df['arrest'].value_counts())\n",
    "print(df['child'].value_counts())"
   ]
  },
  {
   "cell_type": "markdown",
   "metadata": {},
   "source": [
    "## Exploratory Data Analysis"
   ]
  },
  {
   "cell_type": "code",
   "execution_count": null,
   "metadata": {},
   "outputs": [],
   "source": [
    "df.loc[df['participant_age_group.child'] > 0]"
   ]
  },
  {
   "cell_type": "code",
   "execution_count": null,
   "metadata": {
    "collapsed": true
   },
   "outputs": [],
   "source": [
    "# summation = pd.DataFrame()\n",
    "# summation['null_count'] = df.apply(lambda d: d.isnull().sum())\n",
    "# summation['unique'] = df.apply(lambda d: d.nunique())"
   ]
  },
  {
   "cell_type": "code",
   "execution_count": null,
   "metadata": {
    "collapsed": true
   },
   "outputs": [],
   "source": [
    "# display(summation.sort_values('unique', ascending=False).head(10))"
   ]
  },
  {
   "cell_type": "code",
   "execution_count": null,
   "metadata": {
    "collapsed": true
   },
   "outputs": [],
   "source": [
    "plt.figure(figsize=(15,5))\n",
    "plt.subplot(131)\n",
    "sns.countplot(x='year', data=df)\n",
    "plt.subplot(132)\n",
    "sns.countplot(x='month', data=df)\n",
    "plt.subplot(133)\n",
    "sns.countplot(x='state', data=df)\n",
    "plt.show()"
   ]
  },
  {
   "cell_type": "code",
   "execution_count": null,
   "metadata": {
    "collapsed": true
   },
   "outputs": [],
   "source": [
    "plt.figure(figsize=(10,5))\n",
    "plt.subplot(121)\n",
    "plt.scatter(df.groupby('date').sum().index, df.groupby('date').sum()['arrest'])\n",
    "plt.subplot(122)\n",
    "plt.scatter(df.groupby('date').sum().index, df.groupby('date').sum()['killed'])\n",
    "plt.show()"
   ]
  },
  {
   "cell_type": "markdown",
   "metadata": {},
   "source": [
    "## Sample Split"
   ]
  },
  {
   "cell_type": "code",
   "execution_count": null,
   "metadata": {
    "collapsed": true,
    "scrolled": true
   },
   "outputs": [],
   "source": [
    "t0 = time()\n",
    "\n",
    "# Predicting whether someone was killed\n",
    "# Y = df['killed']\n",
    "# X = df.drop(['date', 'state', 'city_or_county', 'n_killed', 'killed', \n",
    "#              'participant_status.killed', 'incident_characteristics.dead', 'incident_characteristics.suicide', \n",
    "#             'incident_characteristics.murder', 'notes.killed', 'incident_characteristics.killed'], axis=1)\n",
    "\n",
    "# Predicting whether an arrest was made\n",
    "Y = df['arrest']\n",
    "X = df.drop(['date', 'state', 'city_or_county', 'arrest', 'incident_characteristics.arrest', 'notes.arrest', \n",
    "             'notes.arrested', 'participant_status.arrested'], axis=1)\n",
    "\n",
    "######################################################################################################################\n",
    "\n",
    "from sklearn.model_selection import train_test_split, cross_val_score\n",
    "\n",
    "X_train, X_test, Y_train, Y_test = train_test_split(X, Y, test_size=0.25)\n",
    "\n",
    "print('Number of features: {}'.format(X_train.shape[1]))\n",
    "print('Training set size: {}\\nTest set size: {}'.format(X_train.shape[0], X_test.shape[0]))\n",
    "print('Y occurrence in training set: {:.1%}'.format(Y_train.sum() / len(Y_train)))\n",
    "print('Y occurrence in test set: {:.1%}'.format(Y_test.sum() / len(Y_test)))\n",
    "\n",
    "print(\"Time: {:.2f} seconds\".format(time() - t0))"
   ]
  },
  {
   "cell_type": "markdown",
   "metadata": {},
   "source": [
    "## Model"
   ]
  },
  {
   "cell_type": "code",
   "execution_count": null,
   "metadata": {
    "collapsed": true
   },
   "outputs": [],
   "source": [
    "from sklearn.ensemble import RandomForestClassifier, GradientBoostingClassifier\n",
    "from sklearn.linear_model import LogisticRegression\n",
    "\n",
    "mod_type = 'r'\n",
    "\n",
    "if mod_type == 'r':\n",
    "    model = RandomForestClassifier(n_estimators=50, \n",
    "                                   min_samples_split=10, \n",
    "                                   max_features='auto', \n",
    "                                   class_weight=None)\n",
    "\n",
    "if mod_type == 'l':\n",
    "    model = LogisticRegression(penalty='l2', \n",
    "                              C=10.0, \n",
    "                              class_weight=None, \n",
    "                              fit_intercept=True)\n",
    "\n",
    "if mod_type == 'g':\n",
    "    model = GradientBoostingClassifier(n_estimators=50, \n",
    "                                      max_depth=5, \n",
    "                                      min_samples_split=10, \n",
    "                                      max_features=None)\n"
   ]
  },
  {
   "cell_type": "code",
   "execution_count": null,
   "metadata": {
    "collapsed": true
   },
   "outputs": [],
   "source": [
    "t0 = time()\n",
    "\n",
    "model.fit(X_train, Y_train)\n",
    "\n",
    "print(\"Fit time: {:.2f} seconds\".format(time() - t0))\n",
    "\n",
    "cv = cross_val_score(model, X_train, Y_train, cv=3)\n",
    "\n",
    "print(\"Total time: {:.2f} seconds\".format(time() - t0))"
   ]
  },
  {
   "cell_type": "code",
   "execution_count": null,
   "metadata": {
    "collapsed": true,
    "scrolled": true
   },
   "outputs": [],
   "source": [
    "from sklearn.metrics import confusion_matrix\n",
    "\n",
    "score_train = model.score(X_train, Y_train)\n",
    "score_test = model.score(X_test, Y_test)\n",
    "Y_pred = model.predict(X_test)\n",
    "\n",
    "index = ['Actual False', 'Actual True']\n",
    "columns = ['Predict False', 'Predict True']\n",
    "cm = pd.DataFrame(confusion_matrix(Y_test, Y_pred), index=index, columns=columns)\n",
    "\n",
    "if (isinstance(model, RandomForestClassifier) == True) or (isinstance(model, GradientBoostingClassifier) == True):\n",
    "    feature_importances = pd.DataFrame(model.feature_importances_.round(2), X.columns, columns=[\"Importances\"])\n",
    "\n",
    "plusminus = u\"\\u00B1\"\n",
    "\n",
    "print('\\nScore on training set: {:.3%}'.format(score_train))\n",
    "print('\\nScore on test set: {:.3%}'.format(score_test))\n",
    "\n",
    "print('\\nTest prediction results:')\n",
    "display(cm)\n",
    "\n",
    "print('\\nCross validation results: {:.3%} {} {:.3%} \\n \\n {}'.format(cv.mean(), plusminus, cv.std()*2, cv))\n",
    "\n",
    "if (isinstance(model, RandomForestClassifier) == True) or (isinstance(model, GradientBoostingClassifier) == True):\n",
    "    display(feature_importances.sort_values('Importances', ascending=False))\n"
   ]
  },
  {
   "cell_type": "markdown",
   "metadata": {},
   "source": [
    "Logistic Regression\n",
    "\n",
    "Score on training set: 85.666%\n",
    "\n",
    "Score on test set: 85.493%\n",
    "\n",
    "Test prediction results:\n",
    "\n",
    "| | Predict False | Predict True |\n",
    "| --- | --- | --- |\n",
    "| **Actual False** | 15060 | 1154 |\n",
    "| **Actual True** | 2323 | 5431 |\n",
    "\n",
    "Cross validation results: 85.563% ± 0.321% \n",
    " \n",
    " [0.85342957 0.85721041 0.85624878]"
   ]
  },
  {
   "cell_type": "markdown",
   "metadata": {},
   "source": [
    "Random Forest\n",
    "\n",
    "Score on training set: 94.870%\n",
    "\n",
    "Score on test set: 88.435%\n",
    "\n",
    "Test prediction results:\n",
    "\n",
    "| | Predict False | Predict True |\n",
    "| --- | --- | --- |\n",
    "| **Actual False** | 74614 | 6531 |\n",
    "| **Actual True** | 7328 | 31366 |\n",
    "\n",
    "Cross validation results: 88.298% ± 0.304% \n",
    " \n",
    " [0.8826666  0.88128974 0.88496971]"
   ]
  },
  {
   "cell_type": "code",
   "execution_count": null,
   "metadata": {
    "collapsed": true
   },
   "outputs": [],
   "source": []
  }
 ],
 "metadata": {
  "kernelspec": {
   "display_name": "Python 3",
   "language": "python",
   "name": "python3"
  },
  "language_info": {
   "codemirror_mode": {
    "name": "ipython",
    "version": 3
   },
   "file_extension": ".py",
   "mimetype": "text/x-python",
   "name": "python",
   "nbconvert_exporter": "python",
   "pygments_lexer": "ipython3",
   "version": "3.6.3"
  },
  "toc": {
   "base_numbering": 1,
   "nav_menu": {},
   "number_sections": true,
   "sideBar": true,
   "skip_h1_title": true,
   "title_cell": "Table of Contents",
   "title_sidebar": "Contents",
   "toc_cell": false,
   "toc_position": {
    "height": "calc(100% - 180px)",
    "left": "10px",
    "top": "150px",
    "width": "281px"
   },
   "toc_section_display": true,
   "toc_window_display": true
  },
  "varInspector": {
   "cols": {
    "lenName": 16,
    "lenType": 16,
    "lenVar": 40
   },
   "kernels_config": {
    "python": {
     "delete_cmd_postfix": "",
     "delete_cmd_prefix": "del ",
     "library": "var_list.py",
     "varRefreshCmd": "print(var_dic_list())"
    },
    "r": {
     "delete_cmd_postfix": ") ",
     "delete_cmd_prefix": "rm(",
     "library": "var_list.r",
     "varRefreshCmd": "cat(var_dic_list()) "
    }
   },
   "types_to_exclude": [
    "module",
    "function",
    "builtin_function_or_method",
    "instance",
    "_Feature"
   ],
   "window_display": false
  }
 },
 "nbformat": 4,
 "nbformat_minor": 2
}
